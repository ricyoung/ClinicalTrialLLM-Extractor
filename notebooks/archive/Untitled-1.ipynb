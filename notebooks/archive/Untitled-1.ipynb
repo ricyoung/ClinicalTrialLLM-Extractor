{
 "cells": [
  {
   "cell_type": "code",
   "execution_count": null,
   "metadata": {},
   "outputs": [],
   "source": [
    "import os\n",
    "import pandas as pd\n",
    "import numpy as np\n",
    "\n",
    "import requests\n",
    "import json\n",
    "import logging\n",
    "import time\n",
    "\n",
    "from typing import List, Dict, Any, Optional\n",
    "from enum import Enum\n",
    "from dataclasses import dataclass\n",
    "\n",
    "from sklearn.metrics import cohen_kappa_score, confusion_matrix\n",
    "\n",
    "# Define the output directory\n",
    "output_dir = '03_data_ai'\n",
    "os.makedirs(output_dir, exist_ok=True)\n",
    "\n",
    "# Read the parquet file\n",
    "df_stats = pd.read_parquet(f'{output_dir}/part_3_covariates_final.parquet')\n",
    "\n",
    "print(\"Dataframe loaded. Shape:\", df_stats.shape)\n",
    "df_stats.head(3)"
   ]
  }
 ],
 "metadata": {
  "language_info": {
   "name": "python"
  }
 },
 "nbformat": 4,
 "nbformat_minor": 2
}
